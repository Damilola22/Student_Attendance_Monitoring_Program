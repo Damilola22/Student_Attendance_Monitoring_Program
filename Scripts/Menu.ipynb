{
 "cells": [
  {
   "cell_type": "markdown",
   "id": "2e75382a",
   "metadata": {},
   "source": [
    "# F215089\n",
    "## 20 January 2023\n",
    "### Menu Program"
   ]
  },
  {
   "cell_type": "markdown",
   "id": "6d264a53",
   "metadata": {},
   "source": [
    "- This is program for the senior tutor to easily view program functionalities.  The menu options: save files to db, plot student attendance, show module attendance and poor attendance. \n",
    "- All results in the required program files are in this menu.\n",
    "- The init button saves files to the data base\n",
    "- The student attendance requires the senior tutor to input the student_id he would like to view/monitor\n",
    "- The module attendance requires the senior tutor to choose the module and week he wishes to monitor.\n",
    "- The poor attendance allows you to pick the category of disengaged students and percentage of that category you want to view. \n",
    "- This program displays the graphs and tables as required by the coursework. \n",
    "- After clicking one button it is not really necessary need to click the clear button before clicking any of the other buttons, it automatically clears when a new menu button is clicked. "
   ]
  },
  {
   "cell_type": "markdown",
   "id": "fe71b41f",
   "metadata": {},
   "source": [
    "## Imports"
   ]
  },
  {
   "cell_type": "code",
   "execution_count": 1,
   "id": "f0f2de5b",
   "metadata": {},
   "outputs": [],
   "source": [
    "import pandas as pd\n",
    "import ipynb\n",
    "import ipywidgets as widgets\n",
    "#import user defined module functions \n",
    "from ipynb.fs.defs.CW_Preprocessing import *\n",
    "from ipynb.fs.defs.Student_Att import *\n",
    "from ipynb.fs.defs.module_att import *\n",
    "from ipynb.fs.defs.Poor_Att import *"
   ]
  },
  {
   "cell_type": "code",
   "execution_count": 2,
   "id": "5647947e",
   "metadata": {},
   "outputs": [],
   "source": [
    "def clicked_store_db(b):   \n",
    "    with output:\n",
    "        output.clear_output()\n",
    "        graph.clear_output()\n",
    "        main_cw_preprocessing()\n",
    "        print(\"all done\")\n",
    "        \n",
    "def clicked_plot_student_attendance(b):\n",
    "    stu_attd, stu_attd_graph = main_student_att(txtbox.value)\n",
    "    with output:\n",
    "        output.clear_output()\n",
    "        display(stu_attd)\n",
    "    with graph:\n",
    "        display(stu_attd_graph)\n",
    "        \n",
    "def clicked_plot_module_attendance(b):\n",
    "    with output:\n",
    "        output.clear_output()\n",
    "        graph.clear_output()\n",
    "        main_module_att(selmod.value, txtbox1.value)\n",
    "    \n",
    "def clicked_poor_attendance(b):\n",
    "    disengaged_stu, disengaged_std_graph = main_poor_att(selType.value, slidePercent.value)\n",
    "    with output:\n",
    "        output.clear_output()\n",
    "        display(disengaged_stu)\n",
    "    with graph:\n",
    "        display(disengaged_std_graph)\n",
    "\n",
    "def clicked_clear_output(b):\n",
    "    output.clear_output() \n",
    "    graph.clear_output()\n",
    "\n",
    "        "
   ]
  },
  {
   "cell_type": "markdown",
   "id": "007837ea",
   "metadata": {},
   "source": [
    "## Menu"
   ]
  },
  {
   "cell_type": "code",
   "execution_count": 3,
   "id": "7d624db5",
   "metadata": {},
   "outputs": [],
   "source": [
    "#Create components \n",
    "btnMain = widgets.Button(description='Init')\n",
    "btnClear = widgets.Button(description='Clear')\n",
    "txtbox = widgets.BoundedIntText(style = dict(description_width = \"initial\"),\n",
    "    description='Please enter student id:',disabled=False, min = 0, max = 242)\n",
    "btnPlot = widgets.Button(description='Plot attendance')\n",
    "txtbox1 = widgets.BoundedIntText(style = dict(description_width = \"initial\"),\n",
    "    description='Please enter week number:',disabled=False, min = 1, max = 6)\n",
    "selmod = widgets.Select(\n",
    "    options=['COA111', 'COA122'],style = dict(description_width = \"initial\"),\n",
    "    description='Select Module:', disabled=False)\n",
    "btntable = widgets.Button(description='module attendance')\n",
    "\n",
    "selType = widgets.Dropdown(options=[('most disengaged', 1), ('least disengaged', 2)],\n",
    "    style = dict(description_width = \"initial\"),\n",
    "    description='Category of disengaged students:')\n",
    "\n",
    "slidePercent = widgets.IntSlider(min=0, max=100, step=1,\n",
    "    description='Percentage of disengaged students you want to view:',\n",
    "    disabled=False,continuous_update=False, orientation='horizontal',\n",
    "    readout=True, readout_format='d')\n",
    "btnDisplay = widgets.Button(description='Display disengaged students')\n",
    "output = widgets.Output()\n",
    "graph = widgets.Output()\n",
    "\n",
    "#Layout\n",
    "b=widgets.HBox([btnMain, txtbox, btnPlot])\n",
    "c = widgets.HBox([selmod,txtbox1,btntable])\n",
    "d = widgets.HBox([selType, slidePercent, btnDisplay, btnClear])\n",
    "output_row = widgets.HBox([output, graph])\n",
    "allw=widgets.VBox([b,c,d,output_row])\n",
    "\n",
    "#Interaction\n",
    "btnMain.on_click(clicked_store_db)\n",
    "btnPlot.on_click(clicked_plot_student_attendance)\n",
    "btntable.on_click(clicked_plot_module_attendance)\n",
    "btnDisplay.on_click(clicked_poor_attendance)\n",
    "btnClear.on_click(clicked_clear_output)\n"
   ]
  },
  {
   "cell_type": "code",
   "execution_count": 4,
   "id": "5d51ce18",
   "metadata": {
    "scrolled": true
   },
   "outputs": [
    {
     "data": {
      "application/vnd.jupyter.widget-view+json": {
       "model_id": "69de3a90a05241e88afd530aa4a4f4ce",
       "version_major": 2,
       "version_minor": 0
      },
      "text/plain": [
       "VBox(children=(HBox(children=(Button(description='Init', style=ButtonStyle()), BoundedIntText(value=0, descrip…"
      ]
     },
     "metadata": {},
     "output_type": "display_data"
    }
   ],
   "source": [
    "display(allw)"
   ]
  }
 ],
 "metadata": {
  "kernelspec": {
   "display_name": "Python 3 (ipykernel)",
   "language": "python",
   "name": "python3"
  },
  "language_info": {
   "codemirror_mode": {
    "name": "ipython",
    "version": 3
   },
   "file_extension": ".py",
   "mimetype": "text/x-python",
   "name": "python",
   "nbconvert_exporter": "python",
   "pygments_lexer": "ipython3",
   "version": "3.11.3"
  }
 },
 "nbformat": 4,
 "nbformat_minor": 5
}
