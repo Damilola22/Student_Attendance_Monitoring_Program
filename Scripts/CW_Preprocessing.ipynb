{
 "cells": [
  {
   "cell_type": "markdown",
   "id": "053f8392",
   "metadata": {},
   "source": [
    "# F215089\n",
    "## 20 January 2023\n",
    "### Course work processing Program"
   ]
  },
  {
   "cell_type": "markdown",
   "id": "a8c7dfe0",
   "metadata": {},
   "source": [
    "- This program contains functions to clean the given attendance records and store them into the SQLite tables\n",
    "- Warning: the read_data function relies on the path of the file being the data folder. \n",
    "- The dataframe was also cleaned before storing the column names into a dataframe. this was done so that column names not useful to the dataset will not be stored.\n",
    "- The last cell calls the function makes use of all the functions and gives the results required by the coursework."
   ]
  },
  {
   "cell_type": "markdown",
   "id": "88b7ed47",
   "metadata": {},
   "source": [
    "## Importing Packages"
   ]
  },
  {
   "cell_type": "code",
   "execution_count": 1,
   "id": "7a2c3980",
   "metadata": {
    "scrolled": true
   },
   "outputs": [],
   "source": [
    "import sqlite3\n",
    "import pandas as pd\n",
    "import numpy as np"
   ]
  },
  {
   "cell_type": "markdown",
   "id": "c6393a18",
   "metadata": {},
   "source": [
    "## Dataframe Preparations"
   ]
  },
  {
   "cell_type": "code",
   "execution_count": 2,
   "id": "84b8268c",
   "metadata": {},
   "outputs": [],
   "source": [
    "def read_data(filename):\n",
    "    \"\"\"\n",
    "    This function reads the csv file from the data folder\n",
    "    input:\n",
    "        filename: the name of the scv file\n",
    "    return:\n",
    "        df: the pandas dataframe of the file\n",
    "    \"\"\"\n",
    "    file = filename +\".csv\"\n",
    "    path = path = \"./data/\" #Folder Path\n",
    "    df=pd.read_csv(path+file, index_col=0)\n",
    "    return df\n",
    "\n",
    "def clean_values(dfData):\n",
    "    \"\"\"This function cleans the dataset\n",
    "    input:\n",
    "       dfData: the dataframe to be cleaned \n",
    "    return:\n",
    "        dfClean: a clean dataframe\n",
    "    \"\"\"\n",
    "    \n",
    "    dfClean = dfData.copy()\n",
    "    dfClean = dfClean.replace({\"GPS\": True, \"X\": False, \"Ex\": np.nan})\n",
    "    dfClean = dfClean.astype(\"boolean\") #apply the specific datatype\n",
    "    dfClean.dropna(axis = 1, how = \"all\", inplace = True)\n",
    "    dfClean.dropna(axis = 0, how = \"all\", inplace = True)  \n",
    "    return dfClean \n",
    "\n",
    "\n",
    "def colnames_df(dfData):\n",
    "    \"\"\"\n",
    "    This function saves the column names of a dataframe\n",
    "    to a dataframe \n",
    "    input:\n",
    "        dfData: the dataframe\n",
    "    return:\n",
    "        df_session : returns the column names as a dataframe\n",
    "    \"\"\"\n",
    "    df_session = dfData.copy()\n",
    "    df_session.columns = df_session.columns.str.strip()\n",
    "    df_session = df_session.columns\n",
    "    df_session = df_session.map(lambda x: x.split(\"\\n\"))\n",
    "    df_session = list(df_session)\n",
    "    df_session = pd.DataFrame(df_session)\n",
    "    df_session.columns = [\"session\", \"day_date\", \"time\", \"lecture_type\", \"venue\"]\n",
    "    df_week = df_session[\"session\"].str.split(\".\", expand = True) \n",
    "    df_session[\"week\"] = df_week[1]\n",
    "    df_session[\"session\"] = df_week[0]\n",
    "    df_session = df_session[[\"session\",\"week\", \"day_date\", \"time\", \"lecture_type\", \"venue\"]]\n",
    "    df_session.index.names = [\"sess_id\"]\n",
    "    return df_session\n",
    "\n",
    "def rename_columns(df):\n",
    "    \"\"\" \n",
    "    changes the column names to unique numeric session ids to the dataframe\n",
    "    \n",
    "    input:\n",
    "        df: dataframe\n",
    "    return:\n",
    "        df_new_col_names: dataframe with unique id sessions \n",
    "        and \n",
    "        df_new_col_namesT: transposed dataframe with unique sessions id\n",
    "    \"\"\"\n",
    "    df_new_col_names = df.copy()\n",
    "    df_new_col_names.columns=np.arange(len(df_new_col_names.columns))\n",
    "    df_new_col_namesT= df_new_col_names.transpose()\n",
    "    df_new_col_namesT.index.names=[\"sess_id\"]#index becomes sess_id i.e session id\n",
    "    return df_new_col_names, df_new_col_namesT"
   ]
  },
  {
   "cell_type": "markdown",
   "id": "1289cb2a",
   "metadata": {},
   "source": [
    "## Database Operations"
   ]
  },
  {
   "cell_type": "code",
   "execution_count": 3,
   "id": "bb56394b",
   "metadata": {},
   "outputs": [],
   "source": [
    "def save_to_db(dataframe, tablename):\n",
    "    '''\n",
    "    saves the dataframe to the Database\n",
    "    input:\n",
    "        dataframe\n",
    "        tablename: the name you want to store the dataframe as in Database\n",
    "    '''\n",
    "    df = dataframe\n",
    "    conn = sqlite3.connect('CWDatabase.db')\n",
    "    df.to_sql(tablename,if_exists='replace',\n",
    "                  index=True,\n",
    "                  con=conn)\n",
    "    \n",
    "    conn.close()"
   ]
  },
  {
   "cell_type": "markdown",
   "id": "6f78c3b2",
   "metadata": {},
   "source": [
    "## Main code"
   ]
  },
  {
   "cell_type": "code",
   "execution_count": 4,
   "id": "21c845d9",
   "metadata": {},
   "outputs": [],
   "source": [
    "def main_cw_preprocessing():\n",
    "    #reading the COA111 module dataset\n",
    "    \n",
    "    dfCOA111 = read_data(\"22COA111ModuleRegister\")\n",
    "    dfCleanCOA111 = clean_values(dfCOA111)\n",
    "    dfCleanCOA111N, dfCleanCOA111T = rename_columns(dfCleanCOA111)\n",
    "    dfCOA111Sessions = colnames_df(dfCleanCOA111)\n",
    "    \n",
    "    #reading the COA122 module dataset\n",
    "    dfCOA122 = read_data(\"22COA122ModuleRegister\")\n",
    "    dfCleanCOA122 = clean_values(dfCOA122)\n",
    "    dfCleanCOA122N, dfCleanCOA122T = rename_columns(dfCleanCOA122)\n",
    "    dfCOA122Sessions = colnames_df(dfCleanCOA122)\n",
    "    \n",
    "    #Saving to database\n",
    "    \n",
    "    save_to_db(dfCOA111Sessions, \"COA111Sessions\")\n",
    "    save_to_db(dfCleanCOA111T, \"COA111T\")#transposed dataframe\n",
    "    save_to_db(dfCleanCOA111N, \"COA111N\")#untransposed dataframe\n",
    "    \n",
    "    save_to_db(dfCOA122Sessions, \"COA122Sessions\")\n",
    "    save_to_db(dfCleanCOA122T, \"COA122T\")#transposed dataframe\n",
    "    save_to_db(dfCleanCOA122N, \"COA122N\")#untransposed dataframe\n",
    " #calling main function   \n",
    "main_cw_preprocessing()\n",
    "      "
   ]
  }
 ],
 "metadata": {
  "kernelspec": {
   "display_name": "Python 3 (ipykernel)",
   "language": "python",
   "name": "python3"
  },
  "language_info": {
   "codemirror_mode": {
    "name": "ipython",
    "version": 3
   },
   "file_extension": ".py",
   "mimetype": "text/x-python",
   "name": "python",
   "nbconvert_exporter": "python",
   "pygments_lexer": "ipython3",
   "version": "3.11.3"
  }
 },
 "nbformat": 4,
 "nbformat_minor": 5
}
