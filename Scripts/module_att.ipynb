{
 "cells": [
  {
   "cell_type": "markdown",
   "id": "be0784e3",
   "metadata": {},
   "source": [
    "# F215089\n",
    "## 20 January 2023\n",
    "### Module Attendance Program"
   ]
  },
  {
   "cell_type": "markdown",
   "id": "ff9c70a8",
   "metadata": {},
   "source": [
    "- The module attendance program imports the functions in Student_Att Notebook because the load_join_table and weekly_attendance function will be used in this program. \n",
    "- The last cell has the function(main_module_attendance) that makes use of all the functions in this program.\n",
    "- It requires the senior tutor to input the  module code and week number to be monitored."
   ]
  },
  {
   "cell_type": "markdown",
   "id": "7f6c3c58",
   "metadata": {},
   "source": [
    "## Importing packages"
   ]
  },
  {
   "cell_type": "code",
   "execution_count": 1,
   "id": "e13ad6e1",
   "metadata": {},
   "outputs": [],
   "source": [
    "import sqlite3\n",
    "import pandas as pd\n",
    "import numpy as np\n",
    "import matplotlib.pyplot as plt\n",
    "import ipynb\n",
    "#import user-defined functions\n",
    "from ipynb.fs.defs.Student_Att import *#import functions used in Student Att"
   ]
  },
  {
   "cell_type": "markdown",
   "id": "1e728c8a",
   "metadata": {},
   "source": [
    "##  Extracting module attendance information"
   ]
  },
  {
   "cell_type": "code",
   "execution_count": 2,
   "id": "04349df5",
   "metadata": {},
   "outputs": [],
   "source": [
    "def module_attendance(dfData, modulename, week_number):\n",
    "    \"\"\"\n",
    "    This function calculates the percentage attendance recorded in the lecture venue, \n",
    "    the time of lecture and the type of lecture\n",
    "    input:\n",
    "        dfData: the dataframe\n",
    "        modulename: the name of the module\n",
    "        week_number: the week number\n",
    "    return:\n",
    "        dataframe showing the venue, time, type of lecture and percentage attendance\n",
    "    \"\"\"\n",
    "    \n",
    "    df_module_attendance = dfData.groupby([\"week\", \"venue\", \"lecture_type\", \"time\"]).agg(\"mean\") * 100\n",
    "    df_module_attendance [\"attendance\"] = df_module_attendance.sum(axis = 1)/ (len(df_module_attendance.columns) -1)\n",
    "    df_module_attendance = df_module_attendance.round()\n",
    "    df_module_attendance = df_module_attendance.iloc[:, -1].to_frame()\n",
    "    df_module_attendance.reset_index(inplace = True)\n",
    "    df_time =df_module_attendance[\"time\"].str.split(\"-\", n = 1, expand = True)\n",
    "    df_module_attendance[\"Time\"] = df_time[0]\n",
    "    week = \"W\" + str(week_number)\n",
    "    week_module_attendance = df_module_attendance.loc[df_module_attendance[\"week\"] == week,\\\n",
    "                                                      [\"Time\",\"lecture_type\", \"venue\", \"attendance\"]]\n",
    "    week_module_attendance.rename(columns={\"Time\": \"Time\", \"lecture_type\": \"Type\", \"venue\": \"Room\",\\\n",
    "                        \"attendance\": \"Attendance%\"}, inplace = True) \n",
    "    return week_module_attendance"
   ]
  },
  {
   "cell_type": "markdown",
   "id": "db319985",
   "metadata": {},
   "source": [
    "## Outputs"
   ]
  },
  {
   "cell_type": "code",
   "execution_count": 3,
   "id": "522cc35e",
   "metadata": {},
   "outputs": [],
   "source": [
    "def colour_code(val):\n",
    "    \"\"\"setting the conditions for the colour code\"\"\"\n",
    "    if val > 70:\n",
    "        colour = \"green\"\n",
    "    elif val > 50:\n",
    "        colour = \"yellow\"\n",
    "    else:\n",
    "        colour = \"red\"\n",
    "    styler=f'background-color: {colour}'\n",
    "    return styler\n",
    "\n",
    "def visualise_output(dfData):\n",
    "    \"\"\"\n",
    "    applying formatting function to the dataframe.\n",
    "    \"\"\"\n",
    "    styledOutput=dfData.style.hide_index().applymap(colour_code,\\\n",
    "                                                    subset = \"Attendance%\").format('{:.1f}', \\\n",
    "                                                                                    subset = \"Attendance%\")\n",
    "    display(styledOutput)\n",
    "    return styledOutput"
   ]
  },
  {
   "cell_type": "markdown",
   "id": "dc3e902d",
   "metadata": {},
   "source": [
    "## Applying functions on the given dataset"
   ]
  },
  {
   "cell_type": "code",
   "execution_count": 4,
   "id": "a652ae2a",
   "metadata": {},
   "outputs": [
    {
     "name": "stdout",
     "output_type": "stream",
     "text": [
      "Attendance record for COA122 Week 1:\n"
     ]
    },
    {
     "data": {
      "text/html": [
       "<style  type=\"text/css\" >\n",
       "#T_30266_row0_col3{\n",
       "            background-color:  green;\n",
       "        }#T_30266_row1_col3,#T_30266_row2_col3{\n",
       "            background-color:  red;\n",
       "        }</style><table id=\"T_30266_\" ><thead>    <tr>        <th class=\"col_heading level0 col0\" >Time</th>        <th class=\"col_heading level0 col1\" >Type</th>        <th class=\"col_heading level0 col2\" >Room</th>        <th class=\"col_heading level0 col3\" >Attendance%</th>    </tr></thead><tbody>\n",
       "                <tr>\n",
       "                                <td id=\"T_30266_row0_col0\" class=\"data row0 col0\" >14:00 </td>\n",
       "                        <td id=\"T_30266_row0_col1\" class=\"data row0 col1\" >Lecture</td>\n",
       "                        <td id=\"T_30266_row0_col2\" class=\"data row0 col2\" >CC012</td>\n",
       "                        <td id=\"T_30266_row0_col3\" class=\"data row0 col3\" >86.0</td>\n",
       "            </tr>\n",
       "            <tr>\n",
       "                                <td id=\"T_30266_row1_col0\" class=\"data row1 col0\" >09:00 </td>\n",
       "                        <td id=\"T_30266_row1_col1\" class=\"data row1 col1\" >Computer Lab</td>\n",
       "                        <td id=\"T_30266_row1_col2\" class=\"data row1 col2\" >N001...</td>\n",
       "                        <td id=\"T_30266_row1_col3\" class=\"data row1 col3\" >42.0</td>\n",
       "            </tr>\n",
       "            <tr>\n",
       "                                <td id=\"T_30266_row2_col0\" class=\"data row2 col0\" >11:00 </td>\n",
       "                        <td id=\"T_30266_row2_col1\" class=\"data row2 col1\" >Computer Lab</td>\n",
       "                        <td id=\"T_30266_row2_col2\" class=\"data row2 col2\" >N001...</td>\n",
       "                        <td id=\"T_30266_row2_col3\" class=\"data row2 col3\" >30.0</td>\n",
       "            </tr>\n",
       "    </tbody></table>"
      ],
      "text/plain": [
       "<pandas.io.formats.style.Styler at 0x1ab793a8250>"
      ]
     },
     "metadata": {},
     "output_type": "display_data"
    }
   ],
   "source": [
    "def main_module_att(modulename, week_number):\n",
    "    #dealing with the COA111 dataframe\n",
    "    if modulename == \"COA111\":\n",
    "        dfCOA111 = load_join_table(sqlstr=\"\"\"\n",
    "        SELECT T.*, C.venue, C.week, C.lecture_type, C.time\n",
    "        FROM COA111T T INNER JOIN COA111Sessions C\n",
    "        ON T.sess_id = C.sess_id;\n",
    "        \"\"\")\n",
    "        dfCOA111Attendance = module_attendance(dfCOA111, \"COA111\", week_number)\n",
    "        print(f\"Attendance record for {modulename} Week {week_number}:\")\n",
    "        dfCOA111AttendanceVisual = visualise_output(dfCOA111Attendance)\n",
    "    else:\n",
    "        #dealing with the COA122 dataframe\n",
    "        dfCOA122 = load_join_table(sqlstr=\"\"\"\n",
    "        SELECT T.*, C.venue, C.week, C.lecture_type, C.time\n",
    "        FROM COA122T T INNER JOIN COA122Sessions C\n",
    "        ON T.sess_id = C.sess_id;\n",
    "        \"\"\")\n",
    "        dfCOA122Attendance = module_attendance(dfCOA122, \"COA122\", week_number)\n",
    "        print(f\"Attendance record for {modulename} Week {week_number}:\")\n",
    "        dfCOA122AttendanceVisual = visualise_output(dfCOA122Attendance)\n",
    "\n",
    "#calling main_module_att function\n",
    "main_module_att(\"COA122\", 1)"
   ]
  }
 ],
 "metadata": {
  "kernelspec": {
   "display_name": "Python 3 (ipykernel)",
   "language": "python",
   "name": "python3"
  },
  "language_info": {
   "codemirror_mode": {
    "name": "ipython",
    "version": 3
   },
   "file_extension": ".py",
   "mimetype": "text/x-python",
   "name": "python",
   "nbconvert_exporter": "python",
   "pygments_lexer": "ipython3",
   "version": "3.8.5"
  }
 },
 "nbformat": 4,
 "nbformat_minor": 5
}
