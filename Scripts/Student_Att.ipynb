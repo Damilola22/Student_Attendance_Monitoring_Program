{
 "cells": [
  {
   "cell_type": "markdown",
   "id": "895ef3f7",
   "metadata": {},
   "source": [
    "# F215089\n",
    "## 20 January 2023\n",
    "### Student Attendance Program"
   ]
  },
  {
   "cell_type": "markdown",
   "id": "ff541ff2",
   "metadata": {},
   "source": [
    "- The student attendance program monitors the weekly attendance of the modules. \n",
    "- Upon performing the validity checks, if a correct ID is entered the attendance for the 2 modules are presented and if an incorrect ID is entered the program tells the tutor that the student id is not found.\n",
    "- The last cell has the function(main_student_att) that makes use of all the functions in this program. \n",
    "- It requires the senior tutor to input the student_id to be monitored."
   ]
  },
  {
   "cell_type": "markdown",
   "id": "d381293b",
   "metadata": {},
   "source": [
    "## Imports"
   ]
  },
  {
   "cell_type": "code",
   "execution_count": 1,
   "id": "e80ce547",
   "metadata": {},
   "outputs": [],
   "source": [
    "# importing packages\n",
    "import sqlite3\n",
    "import pandas as pd\n",
    "import numpy as np\n",
    "import matplotlib.pyplot as plt\n",
    "import ipynb"
   ]
  },
  {
   "cell_type": "markdown",
   "id": "70c8548c",
   "metadata": {},
   "source": [
    "##  Database operations"
   ]
  },
  {
   "cell_type": "code",
   "execution_count": 2,
   "id": "d348192e",
   "metadata": {},
   "outputs": [],
   "source": [
    "def load_join_table(sqlstr):\n",
    "    \"\"\"\n",
    "    This function joins and loads dataframes from the sql\n",
    "    database to the python\n",
    "    input:\n",
    "        sqlstr: sql join statement in \"\"\" \"\"\"\n",
    "    return:\n",
    "        the joined dataframe\n",
    "    \"\"\"\n",
    "    \n",
    "    conn = sqlite3.connect(\"CWDatabase.db\")\n",
    "    df = pd.read_sql(sqlstr,\n",
    "                    con=conn, index_col = [\"sess_id\"])\n",
    "    return df"
   ]
  },
  {
   "cell_type": "markdown",
   "id": "7de2a971",
   "metadata": {},
   "source": [
    "## Calculating the Weekly attendance"
   ]
  },
  {
   "cell_type": "code",
   "execution_count": 3,
   "id": "a736852e",
   "metadata": {},
   "outputs": [],
   "source": [
    "def weekly_attendance(dfData):\n",
    "    \"\"\"\n",
    "    This function calculates the weekly attendance\n",
    "    \n",
    "    input:\n",
    "        df: the name of the csv file\n",
    "    return:\n",
    "        df_module_weekly_attendance: the weekly attendance of the module\n",
    "    \"\"\"\n",
    "    #calculate the module \n",
    "    df_module_weekly_attendance = dfData.groupby('week').agg(\"mean\") *100\n",
    "    df_module_weekly_attendance = df_module_weekly_attendance.transpose()\n",
    "    df_module_weekly_attendance.reset_index(inplace = True)\n",
    "    df_module_weekly_attendance.rename(columns = {'index':'student_id'}, inplace= True)\n",
    "    return df_module_weekly_attendance"
   ]
  },
  {
   "cell_type": "markdown",
   "id": "29fb16b5",
   "metadata": {},
   "source": [
    "## Getting Weekly Attendance for the modules using the student id"
   ]
  },
  {
   "cell_type": "code",
   "execution_count": 4,
   "id": "f8acb527",
   "metadata": {},
   "outputs": [],
   "source": [
    "def student_attendance(df1, df2, modulename1, modulename2,student_id):\n",
    "    \"\"\"This function joins and loads dataframes from the sql\n",
    "    database to the python\n",
    "    input:\n",
    "        df1: first module dataframe\n",
    "        df2: second module dataframe\n",
    "        modulename1: name of df1\n",
    "        modulename2: name of df2\n",
    "        student_id: The student id number to  be checked\n",
    "    return:\n",
    "        df_final_module: a table showing the weekly attendance of the student id requested\n",
    "        for the 2 modules\n",
    "        fig: a graph showing the weekly attendance of the student id requested for the 2 modules\n",
    "    \"\"\"\n",
    "    #calculate the weekly attendance for the 2 modules'\n",
    "    df_module1_weekly_attendance  = weekly_attendance(df1)\n",
    "    df_module2_weekly_attendance = weekly_attendance(df2)\n",
    "    df_module1_weekly_attendance.set_index(\"student_id\", inplace = True)\n",
    "    df_module2_weekly_attendance.set_index(\"student_id\", inplace = True)\n",
    "    student_id = str(student_id)\n",
    "    #check for the student_id in both modules \n",
    "    if student_id in df_module1_weekly_attendance.index and student_id in df_module2_weekly_attendance.index:\n",
    "        #create a new dataframe for module1 containing the all weeks with the requested student_id\n",
    "        new_df_module1_weekly_attendance = df_module1_weekly_attendance.loc[[student_id], \"W1\":]\n",
    "        new_df_module1_weekly_attendance = new_df_module1_weekly_attendance.transpose()\n",
    "        new_df_module1_weekly_attendance.columns= [modulename1]\n",
    "        #create a new dataframe for module2 containing the all weeks with the requested student_id\n",
    "        new_df_module2_weekly_attendance = df_module2_weekly_attendance.loc[[student_id], \"W1\":]\n",
    "        new_df_module2_weekly_attendance = new_df_module2_weekly_attendance.transpose() \n",
    "        new_df_module2_weekly_attendance.columns= [modulename2]\n",
    "        df_final_module = pd.concat([new_df_module1_weekly_attendance,\\\n",
    "                              new_df_module2_weekly_attendance],\\\n",
    "                             axis=1) #combining the dataframes from each module together\n",
    "        df_final_module = df_final_module.round(1)\n",
    "        df_final_module.reset_index(inplace = True)\n",
    "        df_final_module.columns = [\"Week No\", modulename1+\"%\", modulename2+\"%\"] #renames the columns\n",
    "        df_final_module.set_index(\"Week No\", inplace = True)\n",
    "        df_final_module.rename(index={\"W1\": 1, \"W2\": 2, \"W3\": 3, \"W4\": 4, \"W5\": 5, \"W6\": 6}, inplace = True)\n",
    "        fig, ax = plt.subplots()\n",
    "        df_final_module.plot.bar(rot = 0, title=f\"The attendance record of Student ID {student_id}\", ax = ax)\n",
    "        plt.close()\n",
    "        return df_final_module, fig\n",
    "    else:\n",
    "        #print(\"Student ID not found\")\n",
    "        return None, \"Student ID not found\""
   ]
  },
  {
   "cell_type": "markdown",
   "id": "fcf09d94",
   "metadata": {},
   "source": [
    "##  Applying functions on the given dataset"
   ]
  },
  {
   "cell_type": "code",
   "execution_count": 5,
   "id": "251ad349",
   "metadata": {
    "scrolled": true
   },
   "outputs": [
    {
     "data": {
      "text/html": [
       "<div>\n",
       "<style scoped>\n",
       "    .dataframe tbody tr th:only-of-type {\n",
       "        vertical-align: middle;\n",
       "    }\n",
       "\n",
       "    .dataframe tbody tr th {\n",
       "        vertical-align: top;\n",
       "    }\n",
       "\n",
       "    .dataframe thead th {\n",
       "        text-align: right;\n",
       "    }\n",
       "</style>\n",
       "<table border=\"1\" class=\"dataframe\">\n",
       "  <thead>\n",
       "    <tr style=\"text-align: right;\">\n",
       "      <th></th>\n",
       "      <th>COA111%</th>\n",
       "      <th>COA122%</th>\n",
       "    </tr>\n",
       "    <tr>\n",
       "      <th>Week No</th>\n",
       "      <th></th>\n",
       "      <th></th>\n",
       "    </tr>\n",
       "  </thead>\n",
       "  <tbody>\n",
       "    <tr>\n",
       "      <th>1</th>\n",
       "      <td>100.0</td>\n",
       "      <td>100.0</td>\n",
       "    </tr>\n",
       "    <tr>\n",
       "      <th>2</th>\n",
       "      <td>50.0</td>\n",
       "      <td>50.0</td>\n",
       "    </tr>\n",
       "    <tr>\n",
       "      <th>3</th>\n",
       "      <td>100.0</td>\n",
       "      <td>100.0</td>\n",
       "    </tr>\n",
       "    <tr>\n",
       "      <th>4</th>\n",
       "      <td>50.0</td>\n",
       "      <td>66.7</td>\n",
       "    </tr>\n",
       "    <tr>\n",
       "      <th>5</th>\n",
       "      <td>100.0</td>\n",
       "      <td>100.0</td>\n",
       "    </tr>\n",
       "    <tr>\n",
       "      <th>6</th>\n",
       "      <td>NaN</td>\n",
       "      <td>100.0</td>\n",
       "    </tr>\n",
       "  </tbody>\n",
       "</table>\n",
       "</div>"
      ],
      "text/plain": [
       "         COA111%  COA122%\n",
       "Week No                  \n",
       "1          100.0    100.0\n",
       "2           50.0     50.0\n",
       "3          100.0    100.0\n",
       "4           50.0     66.7\n",
       "5          100.0    100.0\n",
       "6            NaN    100.0"
      ]
     },
     "metadata": {},
     "output_type": "display_data"
    },
    {
     "data": {
      "image/png": "[encoded data removed]",
      "text/plain": [
       "<Figure size 640x480 with 1 Axes>"
      ]
     },
     "metadata": {},
     "output_type": "display_data"
    }
   ],
   "source": [
    "def main_student_att(student_id):\n",
    "    \n",
    "    #reading the tables from the database\n",
    "    dfCOA111 = load_join_table(sqlstr=\"\"\"\n",
    "    SELECT T.*, C.week\n",
    "    FROM COA111T T INNER JOIN COA111Sessions C\n",
    "    ON T.sess_id = C.sess_id\n",
    "    \"\"\")\n",
    "    dfCOA122 = load_join_table(sqlstr=\"\"\"\n",
    "    SELECT T.*, C.week\n",
    "    FROM COA122T T INNER JOIN COA122Sessions C\n",
    "    ON T.sess_id = C.sess_id;\n",
    "    \"\"\")\n",
    "    \n",
    "    table, fig = student_attendance(dfCOA111, dfCOA122, \"COA111\", \"COA122\", student_id)\n",
    "    return table, fig \n",
    "\n",
    "# calling main_student_att function\n",
    "table,fig = main_student_att(22)\n",
    "display(table)\n",
    "display(fig)   \n"
   ]
  }
 ],
 "metadata": {
  "kernelspec": {
   "display_name": "Python 3 (ipykernel)",
   "language": "python",
   "name": "python3"
  },
  "language_info": {
   "codemirror_mode": {
    "name": "ipython",
    "version": 3
   },
   "file_extension": ".py",
   "mimetype": "text/x-python",
   "name": "python",
   "nbconvert_exporter": "python",
   "pygments_lexer": "ipython3",
   "version": "3.8.5"
  }
 },
 "nbformat": 4,
 "nbformat_minor": 5
}
